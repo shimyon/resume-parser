{
 "cells": [
  {
   "cell_type": "code",
   "execution_count": 1,
   "metadata": {},
   "outputs": [],
   "source": [
    "import spacy"
   ]
  },
  {
   "cell_type": "code",
   "execution_count": 2,
   "metadata": {},
   "outputs": [],
   "source": [
    "nlp = spacy.load(\"en_core_web_sm\")"
   ]
  },
  {
   "cell_type": "code",
   "execution_count": 2,
   "metadata": {},
   "outputs": [
    {
     "name": "stderr",
     "output_type": "stream",
     "text": [
      "c:\\ProgramData\\Anaconda3\\lib\\site-packages\\spacy\\util.py:275: UserWarning: [W031] Model 'en_training' (0.0.0) requires spaCy v2.2 and is incompatible with the current spaCy version (2.3.5). This may lead to unexpected results or runtime errors. To resolve this, download a newer compatible model or retrain your custom model with the current spaCy version. For more details and available updates, run: python -m spacy validate\n",
      "  warnings.warn(warn_msg)\n"
     ]
    }
   ],
   "source": [
    "from resume_parser import resumeparse"
   ]
  },
  {
   "cell_type": "code",
   "execution_count": 4,
   "metadata": {},
   "outputs": [
    {
     "data": {
      "text/plain": [
       "{'email': 'Email:gaurikale0@gmail.com',\n",
       " 'phone': '8623807359',\n",
       " 'name': 'Gauri Narendra',\n",
       " 'total_exp': 5,\n",
       " 'university': [],\n",
       " 'designition': ['software engineer'],\n",
       " 'degree': [],\n",
       " 'skills': ['known: English',\n",
       "  ' Hindi',\n",
       "  ' Marathi. C# .NET',\n",
       "  ' ASP.NET Core',\n",
       "  ' Web API',\n",
       "  ' MVC',\n",
       "  ' ADO .NET',\n",
       "  ' HTML',\n",
       "  ' CSS',\n",
       "  'Operating System Windows',\n",
       "  'Query Languages SQL',\n",
       "  'Tools Visual Studio 2015 ',\n",
       "  ' SQL Server 2018'],\n",
       " 'Companies worked at': []}"
      ]
     },
     "execution_count": 4,
     "metadata": {},
     "output_type": "execute_result"
    }
   ],
   "source": [
    "data = resumeparse.read_file('Gauri Kale.pdf')\n",
    "data"
   ]
  }
 ],
 "metadata": {
  "kernelspec": {
   "display_name": "base",
   "language": "python",
   "name": "python3"
  },
  "language_info": {
   "codemirror_mode": {
    "name": "ipython",
    "version": 3
   },
   "file_extension": ".py",
   "mimetype": "text/x-python",
   "name": "python",
   "nbconvert_exporter": "python",
   "pygments_lexer": "ipython3",
   "version": "3.9.7"
  },
  "orig_nbformat": 4
 },
 "nbformat": 4,
 "nbformat_minor": 2
}
